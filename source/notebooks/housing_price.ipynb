{
 "cells": [
  {
   "cell_type": "code",
   "execution_count": null,
   "metadata": {},
   "outputs": [],
   "source": [
    "import sagemaker\n",
    "from sagemaker import get_execution_role"
   ]
  },
  {
   "cell_type": "code",
   "execution_count": null,
   "metadata": {},
   "outputs": [],
   "source": [
    "session = sagemaker.Session()"
   ]
  },
  {
   "cell_type": "code",
   "execution_count": null,
   "metadata": {},
   "outputs": [],
   "source": [
    "## TODO: Refactor to get variables as notebook parameters\n",
    "role = \"role\"\n",
    "model_output_path = \"s3://vinilab-ml-sagemaker/housing-price/model/\"\n",
    "data_input_train = \"s3://vinilab-ml-sagemaker/housing-price/data/\"\n",
    "data_input_valid = \"s3://vinilab-ml-sagemaker/housing-price/data/\"\n"
   ]
  },
  {
   "cell_type": "code",
   "execution_count": null,
   "metadata": {},
   "outputs": [],
   "source": [
    "container = sagemaker.amazon.amazon_estimator.get_image_uri(session.boto_region_name, \"xgboost\", \"latest\")\n",
    "estimator = sagemaker.estimator.Estimator(container,\n",
    "                                          train_instance_count=1,\n",
    "                                          train_instance_type='ml.m4.medium',\n",
    "                                          role=role,\n",
    "                                          output_path=model_output_path,\n",
    "                                          sagemaker_session=session,\n",
    "                                          base_job_name=\"xgboost-housing-price\")"
   ]
  },
  {
   "cell_type": "code",
   "execution_count": null,
   "metadata": {},
   "outputs": [],
   "source": [
    "estimator.set_hyperparameters(max_depth=5,\n",
    "                              objective=\"reg:linear\",\n",
    "                              eta=0.1,\n",
    "                              num_round=150)\n",
    "estimator.hyperparameters()"
   ]
  },
  {
   "cell_type": "code",
   "execution_count": null,
   "metadata": {},
   "outputs": [],
   "source": [
    "train = sagemaker.session.s3_input(s3_data=data_input_train)\n",
    "validation = sagemaker.session.s3_input(s3_data=data_input_valid)\n",
    "\n",
    "data_channel = {'train' : train, 'validation': validation}"
   ]
  },
  {
   "cell_type": "code",
   "execution_count": null,
   "metadata": {},
   "outputs": [],
   "source": [
    "estimator.fit(data_channel)"
   ]
  }
 ],
 "metadata": {
  "kernelspec": {
   "display_name": "Python 3",
   "language": "python",
   "name": "python3"
  },
  "language_info": {
   "codemirror_mode": {
    "name": "ipython",
    "version": 3
   },
   "file_extension": ".py",
   "mimetype": "text/x-python",
   "name": "python",
   "nbconvert_exporter": "python",
   "pygments_lexer": "ipython3",
   "version": "3.7.4"
  }
 },
 "nbformat": 4,
 "nbformat_minor": 2
}
